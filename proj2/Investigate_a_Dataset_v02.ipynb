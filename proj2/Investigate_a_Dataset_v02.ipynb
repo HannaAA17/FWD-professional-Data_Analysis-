{
 "cells": [
  {
   "cell_type": "markdown",
   "metadata": {
    "id": "gc6_GWSbieC2"
   },
   "source": [
    "\n",
    "# Project: Investigate a Dataset - [No Show Appointments]\n",
    "\n",
    "## Table of Contents\n",
    "<ul>\n",
    "<li><a href=\"#intro\">Introduction</a></li>\n",
    "<li><a href=\"#wrangling\">Data Wrangling</a></li>\n",
    "<li><a href=\"#eda\">Exploratory Data Analysis</a></li>\n",
    "<li><a href=\"#conclusions\">Conclusions</a></li>\n",
    "</ul>"
   ]
  },
  {
   "cell_type": "markdown",
   "metadata": {
    "id": "ULkSsVZ0ieC5"
   },
   "source": [
    "<a id='intro'></a>\n",
    "## Introduction\n",
    "\n",
    "### Dataset Description \n",
    "\n",
    "> This dataset collects information from 100k medical appointments in Brazil and is focused on the question of whether or not patients show up for their appointment. A number of characteristics about the patient are included in each row. \n",
    "\n",
    "> **Characteristics:**\n",
    "- 01 - **PatientId:**\n",
    "    Identification of a patient\n",
    "- 02 - **AppointmentID:**\n",
    "    Identification of each appointment\n",
    "- 03 - **Gender:**\n",
    "    Male or Female. \n",
    "    Female is the greater proportion, woman takes way more care of they health in comparison to man.\n",
    "- 04 - **ScheduledDay:**\n",
    "    The day someone called or registered the appointment, this is before appointment of course.\n",
    "- 05 - **AppointmentDay:**\n",
    "    The day of the actuall appointment, when they have to visit the doctor.\n",
    "- 06 - **Age:**\n",
    "    How old is the patient.\n",
    "- 07 - **Neighbourhood:**\n",
    "    Where the appointment takes place.\n",
    "- 08 - **Scholarship:**\n",
    "    True of False. \n",
    "    something like medical insurance.\n",
    "- 09 - **Hipertension:**\n",
    "    True or False\n",
    "- 10 - **Diabetes:**\n",
    "    True or False\n",
    "- 11 - **Alcoholism:**\n",
    "    True or False\n",
    "- 12 - **Handcap:**\n",
    "    True or False\n",
    "- 13 - **SMS_received:**\n",
    "    1 or more messages sent to the patient.\n",
    "- 14 - **No-show:**\n",
    "    True or False. True for non show false for show.\n",
    "    \n",
    "    \n",
    "### Question(s) for Analysis\n",
    "\n",
    "\n",
    "- ##### **Q1:** Are females more likely to show than males?\n",
    "\n",
    "- ##### **Q2:** Is there an age range that most likely to show, or not to show?"
   ]
  },
  {
   "cell_type": "markdown",
   "metadata": {
    "id": "CFiR61acieC8"
   },
   "source": [
    "<a id='wrangling'></a>\n",
    "## Data Wrangling\n",
    "\n",
    "> Check the data rows and columns:\n",
    "- What are the columns data types?\n",
    "- Check for missing data or duplicated rows.\n",
    "\n",
    "> Check for invaild data like:\n",
    "- Age < 0 or too high.\n",
    "- AppointmentDay before ScheduledDay.\n",
    "- One of the True or False categories have diffrent value."
   ]
  },
  {
   "cell_type": "markdown",
   "metadata": {
    "id": "29gcHrN0jX3Z"
   },
   "source": [
    "### Exploring Data"
   ]
  },
  {
   "cell_type": "code",
   "execution_count": 1,
   "metadata": {
    "executionInfo": {
     "elapsed": 288,
     "status": "ok",
     "timestamp": 1632344857866,
     "user": {
      "displayName": "Peter Pann",
      "photoUrl": "https://lh3.googleusercontent.com/a/default-user=s64",
      "userId": "15099877773797828879"
     },
     "user_tz": -120
    },
    "id": "q3qn-9qFieC7"
   },
   "outputs": [],
   "source": [
    "import pandas as pd\n",
    "import numpy as np\n",
    "import matplotlib.pyplot as plt\n",
    "import seaborn as sns\n",
    "% matplotlib inline\n",
    "sns.set_style('darkgrid')"
   ]
  },
  {
   "cell_type": "markdown",
   "metadata": {
    "id": "MN3pBLSOkCI8"
   },
   "source": [
    "#### Loading data"
   ]
  },
  {
   "cell_type": "code",
   "execution_count": 2,
   "metadata": {
    "executionInfo": {
     "elapsed": 5,
     "status": "ok",
     "timestamp": 1632344867528,
     "user": {
      "displayName": "Peter Pann",
      "photoUrl": "https://lh3.googleusercontent.com/a/default-user=s64",
      "userId": "15099877773797828879"
     },
     "user_tz": -120
    },
    "id": "no3uWP2ZieC8"
   },
   "outputs": [],
   "source": [
    "df = pd.read_csv('noshowappointments.csv')"
   ]
  },
  {
   "cell_type": "markdown",
   "metadata": {
    "id": "MN3pBLSOkCI8"
   },
   "source": [
    "#### Create functions to avoid repetitive code"
   ]
  },
  {
   "cell_type": "code",
   "execution_count": 3,
   "metadata": {
    "scrolled": true
   },
   "outputs": [],
   "source": [
    "def check_unique_values(col_name):\n",
    "    '''\n",
    "    Return a list containing the unique values in the DataFrame.\n",
    "    col_name : string containing the column name. \n",
    "    \n",
    "    Returns\n",
    "    list\n",
    "    '''\n",
    "    return np.sort(df[col_name].unique()).tolist()"
   ]
  },
  {
   "cell_type": "code",
   "execution_count": 4,
   "metadata": {},
   "outputs": [],
   "source": [
    "def count_sort(col_name, col_name_2 = None, bins= None):\n",
    "    \n",
    "    '''\n",
    "    Return a Series containing counts of unique rows in the DataFrame sorted by label.\n",
    "    col_name : string containing the column name or series containing bool values. \n",
    "    col_name_2 : string containing the column name or series containing bool values, optional.\n",
    "    bins : number of bins to devide the value counts by, optional.\n",
    "    \n",
    "    Returns\n",
    "    Series\n",
    "    '''\n",
    "    if not col_name_2:\n",
    "        anss = df[col_name].value_counts(bins=bins).sort_index()\n",
    "    else:\n",
    "        anss = df[col_name][col_name_2].value_counts(bins=bins).sort_index()\n",
    "    return anss"
   ]
  },
  {
   "cell_type": "markdown",
   "metadata": {
    "id": "4h7yB6WMlpvz"
   },
   "source": [
    "#### Checking the data"
   ]
  },
  {
   "cell_type": "code",
   "execution_count": 5,
   "metadata": {
    "colab": {
     "base_uri": "https://localhost:8080/",
     "height": 0
    },
    "executionInfo": {
     "elapsed": 5,
     "status": "ok",
     "timestamp": 1632344867528,
     "user": {
      "displayName": "Peter Pann",
      "photoUrl": "https://lh3.googleusercontent.com/a/default-user=s64",
      "userId": "15099877773797828879"
     },
     "user_tz": -120
    },
    "id": "8ycYn93wieC9",
    "outputId": "122a8928-fabb-48c8-e27b-e8234ace4c85",
    "scrolled": true
   },
   "outputs": [
    {
     "data": {
      "text/html": [
       "<div>\n",
       "<style scoped>\n",
       "    .dataframe tbody tr th:only-of-type {\n",
       "        vertical-align: middle;\n",
       "    }\n",
       "\n",
       "    .dataframe tbody tr th {\n",
       "        vertical-align: top;\n",
       "    }\n",
       "\n",
       "    .dataframe thead th {\n",
       "        text-align: right;\n",
       "    }\n",
       "</style>\n",
       "<table border=\"1\" class=\"dataframe\">\n",
       "  <thead>\n",
       "    <tr style=\"text-align: right;\">\n",
       "      <th></th>\n",
       "      <th>PatientId</th>\n",
       "      <th>AppointmentID</th>\n",
       "      <th>Gender</th>\n",
       "      <th>ScheduledDay</th>\n",
       "      <th>AppointmentDay</th>\n",
       "      <th>Age</th>\n",
       "      <th>Neighbourhood</th>\n",
       "      <th>Scholarship</th>\n",
       "      <th>Hipertension</th>\n",
       "      <th>Diabetes</th>\n",
       "      <th>Alcoholism</th>\n",
       "      <th>Handcap</th>\n",
       "      <th>SMS_received</th>\n",
       "      <th>No-show</th>\n",
       "    </tr>\n",
       "  </thead>\n",
       "  <tbody>\n",
       "    <tr>\n",
       "      <th>0</th>\n",
       "      <td>2.987250e+13</td>\n",
       "      <td>5642903</td>\n",
       "      <td>F</td>\n",
       "      <td>2016-04-29T18:38:08Z</td>\n",
       "      <td>2016-04-29T00:00:00Z</td>\n",
       "      <td>62</td>\n",
       "      <td>JARDIM DA PENHA</td>\n",
       "      <td>0</td>\n",
       "      <td>1</td>\n",
       "      <td>0</td>\n",
       "      <td>0</td>\n",
       "      <td>0</td>\n",
       "      <td>0</td>\n",
       "      <td>No</td>\n",
       "    </tr>\n",
       "    <tr>\n",
       "      <th>1</th>\n",
       "      <td>5.589978e+14</td>\n",
       "      <td>5642503</td>\n",
       "      <td>M</td>\n",
       "      <td>2016-04-29T16:08:27Z</td>\n",
       "      <td>2016-04-29T00:00:00Z</td>\n",
       "      <td>56</td>\n",
       "      <td>JARDIM DA PENHA</td>\n",
       "      <td>0</td>\n",
       "      <td>0</td>\n",
       "      <td>0</td>\n",
       "      <td>0</td>\n",
       "      <td>0</td>\n",
       "      <td>0</td>\n",
       "      <td>No</td>\n",
       "    </tr>\n",
       "    <tr>\n",
       "      <th>2</th>\n",
       "      <td>4.262962e+12</td>\n",
       "      <td>5642549</td>\n",
       "      <td>F</td>\n",
       "      <td>2016-04-29T16:19:04Z</td>\n",
       "      <td>2016-04-29T00:00:00Z</td>\n",
       "      <td>62</td>\n",
       "      <td>MATA DA PRAIA</td>\n",
       "      <td>0</td>\n",
       "      <td>0</td>\n",
       "      <td>0</td>\n",
       "      <td>0</td>\n",
       "      <td>0</td>\n",
       "      <td>0</td>\n",
       "      <td>No</td>\n",
       "    </tr>\n",
       "    <tr>\n",
       "      <th>3</th>\n",
       "      <td>8.679512e+11</td>\n",
       "      <td>5642828</td>\n",
       "      <td>F</td>\n",
       "      <td>2016-04-29T17:29:31Z</td>\n",
       "      <td>2016-04-29T00:00:00Z</td>\n",
       "      <td>8</td>\n",
       "      <td>PONTAL DE CAMBURI</td>\n",
       "      <td>0</td>\n",
       "      <td>0</td>\n",
       "      <td>0</td>\n",
       "      <td>0</td>\n",
       "      <td>0</td>\n",
       "      <td>0</td>\n",
       "      <td>No</td>\n",
       "    </tr>\n",
       "    <tr>\n",
       "      <th>4</th>\n",
       "      <td>8.841186e+12</td>\n",
       "      <td>5642494</td>\n",
       "      <td>F</td>\n",
       "      <td>2016-04-29T16:07:23Z</td>\n",
       "      <td>2016-04-29T00:00:00Z</td>\n",
       "      <td>56</td>\n",
       "      <td>JARDIM DA PENHA</td>\n",
       "      <td>0</td>\n",
       "      <td>1</td>\n",
       "      <td>1</td>\n",
       "      <td>0</td>\n",
       "      <td>0</td>\n",
       "      <td>0</td>\n",
       "      <td>No</td>\n",
       "    </tr>\n",
       "  </tbody>\n",
       "</table>\n",
       "</div>"
      ],
      "text/plain": [
       "      PatientId  AppointmentID Gender          ScheduledDay  \\\n",
       "0  2.987250e+13        5642903      F  2016-04-29T18:38:08Z   \n",
       "1  5.589978e+14        5642503      M  2016-04-29T16:08:27Z   \n",
       "2  4.262962e+12        5642549      F  2016-04-29T16:19:04Z   \n",
       "3  8.679512e+11        5642828      F  2016-04-29T17:29:31Z   \n",
       "4  8.841186e+12        5642494      F  2016-04-29T16:07:23Z   \n",
       "\n",
       "         AppointmentDay  Age      Neighbourhood  Scholarship  Hipertension  \\\n",
       "0  2016-04-29T00:00:00Z   62    JARDIM DA PENHA            0             1   \n",
       "1  2016-04-29T00:00:00Z   56    JARDIM DA PENHA            0             0   \n",
       "2  2016-04-29T00:00:00Z   62      MATA DA PRAIA            0             0   \n",
       "3  2016-04-29T00:00:00Z    8  PONTAL DE CAMBURI            0             0   \n",
       "4  2016-04-29T00:00:00Z   56    JARDIM DA PENHA            0             1   \n",
       "\n",
       "   Diabetes  Alcoholism  Handcap  SMS_received No-show  \n",
       "0         0           0        0             0      No  \n",
       "1         0           0        0             0      No  \n",
       "2         0           0        0             0      No  \n",
       "3         0           0        0             0      No  \n",
       "4         1           0        0             0      No  "
      ]
     },
     "execution_count": 5,
     "metadata": {},
     "output_type": "execute_result"
    }
   ],
   "source": [
    "df.head()"
   ]
  },
  {
   "cell_type": "markdown",
   "metadata": {
    "id": "JlJYgcL4ieC-"
   },
   "source": [
    "- lowercase all columns names.\n",
    "- handcap should be handicap, No-show should be No_show\n",
    "- The PatientId and AppointmentID columns are irrelevant and should be removed."
   ]
  },
  {
   "cell_type": "markdown",
   "metadata": {
    "id": "YKzyoO04ieC-"
   },
   "source": [
    "#### Checking for missing values and coolumn data types:"
   ]
  },
  {
   "cell_type": "code",
   "execution_count": 6,
   "metadata": {
    "colab": {
     "base_uri": "https://localhost:8080/"
    },
    "executionInfo": {
     "elapsed": 8,
     "status": "ok",
     "timestamp": 1632344868149,
     "user": {
      "displayName": "Peter Pann",
      "photoUrl": "https://lh3.googleusercontent.com/a/default-user=s64",
      "userId": "15099877773797828879"
     },
     "user_tz": -120
    },
    "id": "BwsdIculieC_",
    "outputId": "b2d3b481-bc19-4ee1-8bfb-34e0d0543530",
    "scrolled": false
   },
   "outputs": [
    {
     "name": "stdout",
     "output_type": "stream",
     "text": [
      "<class 'pandas.core.frame.DataFrame'>\n",
      "RangeIndex: 110527 entries, 0 to 110526\n",
      "Data columns (total 14 columns):\n",
      "PatientId         110527 non-null float64\n",
      "AppointmentID     110527 non-null int64\n",
      "Gender            110527 non-null object\n",
      "ScheduledDay      110527 non-null object\n",
      "AppointmentDay    110527 non-null object\n",
      "Age               110527 non-null int64\n",
      "Neighbourhood     110527 non-null object\n",
      "Scholarship       110527 non-null int64\n",
      "Hipertension      110527 non-null int64\n",
      "Diabetes          110527 non-null int64\n",
      "Alcoholism        110527 non-null int64\n",
      "Handcap           110527 non-null int64\n",
      "SMS_received      110527 non-null int64\n",
      "No-show           110527 non-null object\n",
      "dtypes: float64(1), int64(8), object(5)\n",
      "memory usage: 11.8+ MB\n"
     ]
    }
   ],
   "source": [
    "df.info()"
   ]
  },
  {
   "cell_type": "markdown",
   "metadata": {
    "id": "MlUSddp7ieC_"
   },
   "source": [
    "- There are no null data in the dataset.\n",
    "- The 'ScheduledDay' and 'AppointmentDay' columns should be converted to datetime and devided into day of week, month.\n",
    "- No-show should be converted to int (0, 1)."
   ]
  },
  {
   "cell_type": "markdown",
   "metadata": {
    "id": "Ywns83WIieDA"
   },
   "source": [
    "#### Checking for duplicates:"
   ]
  },
  {
   "cell_type": "code",
   "execution_count": 7,
   "metadata": {
    "colab": {
     "base_uri": "https://localhost:8080/"
    },
    "executionInfo": {
     "elapsed": 6,
     "status": "ok",
     "timestamp": 1632344868149,
     "user": {
      "displayName": "Peter Pann",
      "photoUrl": "https://lh3.googleusercontent.com/a/default-user=s64",
      "userId": "15099877773797828879"
     },
     "user_tz": -120
    },
    "id": "fWT_i6PrieDA",
    "outputId": "8ca3a511-8363-42a8-f191-27d9c0d64757",
    "scrolled": false
   },
   "outputs": [
    {
     "data": {
      "text/plain": [
       "0"
      ]
     },
     "execution_count": 7,
     "metadata": {},
     "output_type": "execute_result"
    }
   ],
   "source": [
    "df.duplicated().sum()"
   ]
  },
  {
   "cell_type": "markdown",
   "metadata": {
    "id": "s3tOZwoBieDA"
   },
   "source": [
    "- There are no duplications"
   ]
  },
  {
   "cell_type": "markdown",
   "metadata": {
    "id": "OYWNJlBdieDA"
   },
   "source": [
    "#### Having a look on the data:"
   ]
  },
  {
   "cell_type": "code",
   "execution_count": 8,
   "metadata": {
    "colab": {
     "base_uri": "https://localhost:8080/",
     "height": 0
    },
    "executionInfo": {
     "elapsed": 7,
     "status": "ok",
     "timestamp": 1632344868150,
     "user": {
      "displayName": "Peter Pann",
      "photoUrl": "https://lh3.googleusercontent.com/a/default-user=s64",
      "userId": "15099877773797828879"
     },
     "user_tz": -120
    },
    "id": "Ie1NQM_8ieDB",
    "outputId": "0f6a3771-00a7-4ae6-de90-4873aee69db2",
    "scrolled": true
   },
   "outputs": [
    {
     "data": {
      "text/html": [
       "<div>\n",
       "<style scoped>\n",
       "    .dataframe tbody tr th:only-of-type {\n",
       "        vertical-align: middle;\n",
       "    }\n",
       "\n",
       "    .dataframe tbody tr th {\n",
       "        vertical-align: top;\n",
       "    }\n",
       "\n",
       "    .dataframe thead th {\n",
       "        text-align: right;\n",
       "    }\n",
       "</style>\n",
       "<table border=\"1\" class=\"dataframe\">\n",
       "  <thead>\n",
       "    <tr style=\"text-align: right;\">\n",
       "      <th></th>\n",
       "      <th>PatientId</th>\n",
       "      <th>AppointmentID</th>\n",
       "      <th>Age</th>\n",
       "      <th>Scholarship</th>\n",
       "      <th>Hipertension</th>\n",
       "      <th>Diabetes</th>\n",
       "      <th>Alcoholism</th>\n",
       "      <th>Handcap</th>\n",
       "      <th>SMS_received</th>\n",
       "    </tr>\n",
       "  </thead>\n",
       "  <tbody>\n",
       "    <tr>\n",
       "      <th>count</th>\n",
       "      <td>1.105270e+05</td>\n",
       "      <td>1.105270e+05</td>\n",
       "      <td>110527.000000</td>\n",
       "      <td>110527.000000</td>\n",
       "      <td>110527.000000</td>\n",
       "      <td>110527.000000</td>\n",
       "      <td>110527.000000</td>\n",
       "      <td>110527.000000</td>\n",
       "      <td>110527.000000</td>\n",
       "    </tr>\n",
       "    <tr>\n",
       "      <th>mean</th>\n",
       "      <td>1.474963e+14</td>\n",
       "      <td>5.675305e+06</td>\n",
       "      <td>37.088874</td>\n",
       "      <td>0.098266</td>\n",
       "      <td>0.197246</td>\n",
       "      <td>0.071865</td>\n",
       "      <td>0.030400</td>\n",
       "      <td>0.022248</td>\n",
       "      <td>0.321026</td>\n",
       "    </tr>\n",
       "    <tr>\n",
       "      <th>std</th>\n",
       "      <td>2.560949e+14</td>\n",
       "      <td>7.129575e+04</td>\n",
       "      <td>23.110205</td>\n",
       "      <td>0.297675</td>\n",
       "      <td>0.397921</td>\n",
       "      <td>0.258265</td>\n",
       "      <td>0.171686</td>\n",
       "      <td>0.161543</td>\n",
       "      <td>0.466873</td>\n",
       "    </tr>\n",
       "    <tr>\n",
       "      <th>min</th>\n",
       "      <td>3.921784e+04</td>\n",
       "      <td>5.030230e+06</td>\n",
       "      <td>-1.000000</td>\n",
       "      <td>0.000000</td>\n",
       "      <td>0.000000</td>\n",
       "      <td>0.000000</td>\n",
       "      <td>0.000000</td>\n",
       "      <td>0.000000</td>\n",
       "      <td>0.000000</td>\n",
       "    </tr>\n",
       "    <tr>\n",
       "      <th>25%</th>\n",
       "      <td>4.172614e+12</td>\n",
       "      <td>5.640286e+06</td>\n",
       "      <td>18.000000</td>\n",
       "      <td>0.000000</td>\n",
       "      <td>0.000000</td>\n",
       "      <td>0.000000</td>\n",
       "      <td>0.000000</td>\n",
       "      <td>0.000000</td>\n",
       "      <td>0.000000</td>\n",
       "    </tr>\n",
       "    <tr>\n",
       "      <th>50%</th>\n",
       "      <td>3.173184e+13</td>\n",
       "      <td>5.680573e+06</td>\n",
       "      <td>37.000000</td>\n",
       "      <td>0.000000</td>\n",
       "      <td>0.000000</td>\n",
       "      <td>0.000000</td>\n",
       "      <td>0.000000</td>\n",
       "      <td>0.000000</td>\n",
       "      <td>0.000000</td>\n",
       "    </tr>\n",
       "    <tr>\n",
       "      <th>75%</th>\n",
       "      <td>9.439172e+13</td>\n",
       "      <td>5.725524e+06</td>\n",
       "      <td>55.000000</td>\n",
       "      <td>0.000000</td>\n",
       "      <td>0.000000</td>\n",
       "      <td>0.000000</td>\n",
       "      <td>0.000000</td>\n",
       "      <td>0.000000</td>\n",
       "      <td>1.000000</td>\n",
       "    </tr>\n",
       "    <tr>\n",
       "      <th>max</th>\n",
       "      <td>9.999816e+14</td>\n",
       "      <td>5.790484e+06</td>\n",
       "      <td>115.000000</td>\n",
       "      <td>1.000000</td>\n",
       "      <td>1.000000</td>\n",
       "      <td>1.000000</td>\n",
       "      <td>1.000000</td>\n",
       "      <td>4.000000</td>\n",
       "      <td>1.000000</td>\n",
       "    </tr>\n",
       "  </tbody>\n",
       "</table>\n",
       "</div>"
      ],
      "text/plain": [
       "          PatientId  AppointmentID            Age    Scholarship  \\\n",
       "count  1.105270e+05   1.105270e+05  110527.000000  110527.000000   \n",
       "mean   1.474963e+14   5.675305e+06      37.088874       0.098266   \n",
       "std    2.560949e+14   7.129575e+04      23.110205       0.297675   \n",
       "min    3.921784e+04   5.030230e+06      -1.000000       0.000000   \n",
       "25%    4.172614e+12   5.640286e+06      18.000000       0.000000   \n",
       "50%    3.173184e+13   5.680573e+06      37.000000       0.000000   \n",
       "75%    9.439172e+13   5.725524e+06      55.000000       0.000000   \n",
       "max    9.999816e+14   5.790484e+06     115.000000       1.000000   \n",
       "\n",
       "        Hipertension       Diabetes     Alcoholism        Handcap  \\\n",
       "count  110527.000000  110527.000000  110527.000000  110527.000000   \n",
       "mean        0.197246       0.071865       0.030400       0.022248   \n",
       "std         0.397921       0.258265       0.171686       0.161543   \n",
       "min         0.000000       0.000000       0.000000       0.000000   \n",
       "25%         0.000000       0.000000       0.000000       0.000000   \n",
       "50%         0.000000       0.000000       0.000000       0.000000   \n",
       "75%         0.000000       0.000000       0.000000       0.000000   \n",
       "max         1.000000       1.000000       1.000000       4.000000   \n",
       "\n",
       "        SMS_received  \n",
       "count  110527.000000  \n",
       "mean        0.321026  \n",
       "std         0.466873  \n",
       "min         0.000000  \n",
       "25%         0.000000  \n",
       "50%         0.000000  \n",
       "75%         1.000000  \n",
       "max         1.000000  "
      ]
     },
     "execution_count": 8,
     "metadata": {},
     "output_type": "execute_result"
    }
   ],
   "source": [
    "df.describe()"
   ]
  },
  {
   "cell_type": "code",
   "execution_count": 9,
   "metadata": {
    "colab": {
     "base_uri": "https://localhost:8080/"
    },
    "executionInfo": {
     "elapsed": 6,
     "status": "ok",
     "timestamp": 1632344868150,
     "user": {
      "displayName": "Peter Pann",
      "photoUrl": "https://lh3.googleusercontent.com/a/default-user=s64",
      "userId": "15099877773797828879"
     },
     "user_tz": -120
    },
    "id": "W2XkcHA0ieDB",
    "outputId": "b7045647-d313-4ca6-a98b-7f4a412287a1"
   },
   "outputs": [
    {
     "name": "stdout",
     "output_type": "stream",
     "text": [
      "Gender:\n",
      " ['F', 'M'] \n",
      "\n",
      "Age:\n",
      " [-1, 0, 1, 2, 3, 4, 5, 6, 7, 8, 9, 10, 11, 12, 13, 14, 15, 16, 17, 18, 19, 20, 21, 22, 23, 24, 25, 26, 27, 28, 29, 30, 31, 32, 33, 34, 35, 36, 37, 38, 39, 40, 41, 42, 43, 44, 45, 46, 47, 48, 49, 50, 51, 52, 53, 54, 55, 56, 57, 58, 59, 60, 61, 62, 63, 64, 65, 66, 67, 68, 69, 70, 71, 72, 73, 74, 75, 76, 77, 78, 79, 80, 81, 82, 83, 84, 85, 86, 87, 88, 89, 90, 91, 92, 93, 94, 95, 96, 97, 98, 99, 100, 102, 115] \n",
      "\n",
      "Neighbourhood:\n",
      " ['AEROPORTO', 'ANDORINHAS', 'ANTÔNIO HONÓRIO', 'ARIOVALDO FAVALESSA', 'BARRO VERMELHO', 'BELA VISTA', 'BENTO FERREIRA', 'BOA VISTA', 'BONFIM', 'CARATOÍRA', 'CENTRO', 'COMDUSA', 'CONQUISTA', 'CONSOLAÇÃO', 'CRUZAMENTO', 'DA PENHA', 'DE LOURDES', 'DO CABRAL', 'DO MOSCOSO', 'DO QUADRO', 'ENSEADA DO SUÁ', 'ESTRELINHA', 'FONTE GRANDE', 'FORTE SÃO JOÃO', 'FRADINHOS', 'GOIABEIRAS', 'GRANDE VITÓRIA', 'GURIGICA', 'HORTO', 'ILHA DAS CAIEIRAS', 'ILHA DE SANTA MARIA', 'ILHA DO BOI', 'ILHA DO FRADE', 'ILHA DO PRÍNCIPE', 'ILHAS OCEÂNICAS DE TRINDADE', 'INHANGUETÁ', 'ITARARÉ', 'JABOUR', 'JARDIM CAMBURI', 'JARDIM DA PENHA', 'JESUS DE NAZARETH', 'JOANA D´ARC', 'JUCUTUQUARA', 'MARIA ORTIZ', 'MARUÍPE', 'MATA DA PRAIA', 'MONTE BELO', 'MORADA DE CAMBURI', 'MÁRIO CYPRESTE', 'NAZARETH', 'NOVA PALESTINA', 'PARQUE INDUSTRIAL', 'PARQUE MOSCOSO', 'PIEDADE', 'PONTAL DE CAMBURI', 'PRAIA DO CANTO', 'PRAIA DO SUÁ', 'REDENÇÃO', 'REPÚBLICA', 'RESISTÊNCIA', 'ROMÃO', 'SANTA CECÍLIA', 'SANTA CLARA', 'SANTA HELENA', 'SANTA LUÍZA', 'SANTA LÚCIA', 'SANTA MARTHA', 'SANTA TEREZA', 'SANTO ANDRÉ', 'SANTO ANTÔNIO', 'SANTOS DUMONT', 'SANTOS REIS', 'SEGURANÇA DO LAR', 'SOLON BORGES', 'SÃO BENEDITO', 'SÃO CRISTÓVÃO', 'SÃO JOSÉ', 'SÃO PEDRO', 'TABUAZEIRO', 'UNIVERSITÁRIO', 'VILA RUBIM'] \n",
      "\n",
      "Scholarship:\n",
      " [0, 1] \n",
      "\n",
      "Hipertension:\n",
      " [0, 1] \n",
      "\n",
      "Diabetes:\n",
      " [0, 1] \n",
      "\n",
      "Alcoholism:\n",
      " [0, 1] \n",
      "\n",
      "Handcap:\n",
      " [0, 1, 2, 3, 4] \n",
      "\n",
      "SMS_received:\n",
      " [0, 1] \n",
      "\n",
      "No-show:\n",
      " ['No', 'Yes'] \n",
      "\n"
     ]
    }
   ],
   "source": [
    "for ii in df.columns:\n",
    "    if ii not in ['PatientId', 'AppointmentID','ScheduledDay','AppointmentDay']:\n",
    "        print(f\"{ii}:\\n\", check_unique_values(ii),\"\\n\")\n",
    "        "
   ]
  },
  {
   "cell_type": "markdown",
   "metadata": {
    "id": "rWdND_I0ieDB"
   },
   "source": [
    "- Age: has -1 and 115 values that should be dropped or filled with another value depending on the count.\n",
    "- Handcap: has 2, 3 and 4 values should be dropped or filled with another value depending on the count."
   ]
  },
  {
   "cell_type": "code",
   "execution_count": 10,
   "metadata": {
    "colab": {
     "base_uri": "https://localhost:8080/"
    },
    "executionInfo": {
     "elapsed": 6,
     "status": "ok",
     "timestamp": 1632344868151,
     "user": {
      "displayName": "Peter Pann",
      "photoUrl": "https://lh3.googleusercontent.com/a/default-user=s64",
      "userId": "15099877773797828879"
     },
     "user_tz": -120
    },
    "id": "dFfmWpvaieDB",
    "outputId": "9b7988b6-4aa9-4cd1-9938-85c9fb4ced40"
   },
   "outputs": [
    {
     "data": {
      "text/plain": [
       "-1      1\n",
       " 115    5\n",
       "Name: Age, dtype: int64"
      ]
     },
     "execution_count": 10,
     "metadata": {},
     "output_type": "execute_result"
    }
   ],
   "source": [
    "count_sort('Age')[[-1,115]]"
   ]
  },
  {
   "cell_type": "markdown",
   "metadata": {
    "id": "7Njj5nxkieDC"
   },
   "source": [
    "- only 6 values so will be dropped"
   ]
  },
  {
   "cell_type": "code",
   "execution_count": 11,
   "metadata": {
    "colab": {
     "base_uri": "https://localhost:8080/"
    },
    "executionInfo": {
     "elapsed": 6,
     "status": "ok",
     "timestamp": 1632344868151,
     "user": {
      "displayName": "Peter Pann",
      "photoUrl": "https://lh3.googleusercontent.com/a/default-user=s64",
      "userId": "15099877773797828879"
     },
     "user_tz": -120
    },
    "id": "ZOWDZEnAieDC",
    "outputId": "1b525a97-87d3-4471-b769-e8c06954c7c5"
   },
   "outputs": [
    {
     "data": {
      "text/plain": [
       "0    108286\n",
       "1      2042\n",
       "2       183\n",
       "3        13\n",
       "4         3\n",
       "Name: Handcap, dtype: int64"
      ]
     },
     "execution_count": 11,
     "metadata": {},
     "output_type": "execute_result"
    }
   ],
   "source": [
    "count_sort('Handcap')"
   ]
  },
  {
   "cell_type": "markdown",
   "metadata": {
    "id": "lFDNAzfBieDC"
   },
   "source": [
    "- will replace the higher values with 1"
   ]
  },
  {
   "cell_type": "markdown",
   "metadata": {
    "id": "wz-9Bxz1ieDC"
   },
   "source": [
    "     "
   ]
  },
  {
   "cell_type": "markdown",
   "metadata": {
    "id": "swKi8SzKieDC"
   },
   "source": [
    "\n",
    "### Data Cleaning\n",
    "> - Remove the PatientId, AppointmentID columns as they are irrelevant to our analysis.\n",
    "- Rename 'Handcap' to 'Handicap', 'No-show' to 'No_show', 'ScheduledDay' to 'Scheduled_Day' and 'AppointmentDay' to 'Appointment_Day'.\n",
    "- Lowercase all the columns names.\n",
    "- Convert 'ScheduledDay' and 'AppointmentDay' to datetime.\n",
    "- Create scheduled_Hour, appointment_day_of_week, appointment_month\n",
    "- Check if there invaild ScheduledDay, AppointmentDay. if there will be dropped.\n",
    "- Convert No-show to integer (0, 1).\n",
    "- Drop the invalid age values.\n",
    "- Replace the higher values of handicap to 1."
   ]
  },
  {
   "cell_type": "markdown",
   "metadata": {
    "id": "5s0-GbbQieDD"
   },
   "source": [
    "#### Remove the PatientId, AppointmentID columns as they are irrelevant to our analysis:"
   ]
  },
  {
   "cell_type": "code",
   "execution_count": 12,
   "metadata": {
    "executionInfo": {
     "elapsed": 476,
     "status": "ok",
     "timestamp": 1632344870485,
     "user": {
      "displayName": "Peter Pann",
      "photoUrl": "https://lh3.googleusercontent.com/a/default-user=s64",
      "userId": "15099877773797828879"
     },
     "user_tz": -120
    },
    "id": "LYBVoS8HieDE"
   },
   "outputs": [],
   "source": [
    "df.drop(['PatientId', 'AppointmentID'], axis = 1, inplace = True)"
   ]
  },
  {
   "cell_type": "markdown",
   "metadata": {
    "id": "8tRGlFUbieDE"
   },
   "source": [
    "\n",
    "#### Rename 'Handcap' to 'Handicap', 'No-show' to 'No_show', 'ScheduledDay' to 'Scheduled_Day' and 'AppointmentDay' to 'Appointment_Day':"
   ]
  },
  {
   "cell_type": "code",
   "execution_count": 13,
   "metadata": {
    "executionInfo": {
     "elapsed": 10,
     "status": "ok",
     "timestamp": 1632344871284,
     "user": {
      "displayName": "Peter Pann",
      "photoUrl": "https://lh3.googleusercontent.com/a/default-user=s64",
      "userId": "15099877773797828879"
     },
     "user_tz": -120
    },
    "id": "puyWK2ZPieDE"
   },
   "outputs": [],
   "source": [
    "df.rename(columns={'Handcap': 'Handicap', 'No-show': 'No_show',\n",
    "                   'ScheduledDay':'Scheduled_Day', 'AppointmentDay':'Appointment_Day'}, inplace=True)"
   ]
  },
  {
   "cell_type": "markdown",
   "metadata": {
    "id": "lpcjIiw-ieDE"
   },
   "source": [
    "##### Confirm changes"
   ]
  },
  {
   "cell_type": "code",
   "execution_count": 14,
   "metadata": {
    "colab": {
     "base_uri": "https://localhost:8080/",
     "height": 0
    },
    "executionInfo": {
     "elapsed": 10,
     "status": "ok",
     "timestamp": 1632344871285,
     "user": {
      "displayName": "Peter Pann",
      "photoUrl": "https://lh3.googleusercontent.com/a/default-user=s64",
      "userId": "15099877773797828879"
     },
     "user_tz": -120
    },
    "id": "m66_gYJ6ieDE",
    "outputId": "f0f74d30-b5cb-482a-bd76-1feb5d473eeb",
    "scrolled": false
   },
   "outputs": [
    {
     "data": {
      "text/html": [
       "<div>\n",
       "<style scoped>\n",
       "    .dataframe tbody tr th:only-of-type {\n",
       "        vertical-align: middle;\n",
       "    }\n",
       "\n",
       "    .dataframe tbody tr th {\n",
       "        vertical-align: top;\n",
       "    }\n",
       "\n",
       "    .dataframe thead th {\n",
       "        text-align: right;\n",
       "    }\n",
       "</style>\n",
       "<table border=\"1\" class=\"dataframe\">\n",
       "  <thead>\n",
       "    <tr style=\"text-align: right;\">\n",
       "      <th></th>\n",
       "      <th>Gender</th>\n",
       "      <th>Scheduled_Day</th>\n",
       "      <th>Appointment_Day</th>\n",
       "      <th>Age</th>\n",
       "      <th>Neighbourhood</th>\n",
       "      <th>Scholarship</th>\n",
       "      <th>Hipertension</th>\n",
       "      <th>Diabetes</th>\n",
       "      <th>Alcoholism</th>\n",
       "      <th>Handicap</th>\n",
       "      <th>SMS_received</th>\n",
       "      <th>No_show</th>\n",
       "    </tr>\n",
       "  </thead>\n",
       "  <tbody>\n",
       "    <tr>\n",
       "      <th>0</th>\n",
       "      <td>F</td>\n",
       "      <td>2016-04-29T18:38:08Z</td>\n",
       "      <td>2016-04-29T00:00:00Z</td>\n",
       "      <td>62</td>\n",
       "      <td>JARDIM DA PENHA</td>\n",
       "      <td>0</td>\n",
       "      <td>1</td>\n",
       "      <td>0</td>\n",
       "      <td>0</td>\n",
       "      <td>0</td>\n",
       "      <td>0</td>\n",
       "      <td>No</td>\n",
       "    </tr>\n",
       "  </tbody>\n",
       "</table>\n",
       "</div>"
      ],
      "text/plain": [
       "  Gender         Scheduled_Day       Appointment_Day  Age    Neighbourhood  \\\n",
       "0      F  2016-04-29T18:38:08Z  2016-04-29T00:00:00Z   62  JARDIM DA PENHA   \n",
       "\n",
       "   Scholarship  Hipertension  Diabetes  Alcoholism  Handicap  SMS_received  \\\n",
       "0            0             1         0           0         0             0   \n",
       "\n",
       "  No_show  \n",
       "0      No  "
      ]
     },
     "execution_count": 14,
     "metadata": {},
     "output_type": "execute_result"
    }
   ],
   "source": [
    "df.head(1)"
   ]
  },
  {
   "cell_type": "markdown",
   "metadata": {
    "id": "xIQVMfFdieDE"
   },
   "source": [
    "#### Lowercase all the columns names:"
   ]
  },
  {
   "cell_type": "code",
   "execution_count": 15,
   "metadata": {
    "executionInfo": {
     "elapsed": 9,
     "status": "ok",
     "timestamp": 1632344871285,
     "user": {
      "displayName": "Peter Pann",
      "photoUrl": "https://lh3.googleusercontent.com/a/default-user=s64",
      "userId": "15099877773797828879"
     },
     "user_tz": -120
    },
    "id": "I4-6ZXRmieDE"
   },
   "outputs": [],
   "source": [
    "df.columns = df.columns.str.lower()"
   ]
  },
  {
   "cell_type": "markdown",
   "metadata": {
    "id": "Avj28SpPJnFI"
   },
   "source": [
    "##### Confirm changes"
   ]
  },
  {
   "cell_type": "code",
   "execution_count": 16,
   "metadata": {
    "colab": {
     "base_uri": "https://localhost:8080/",
     "height": 0
    },
    "executionInfo": {
     "elapsed": 10,
     "status": "ok",
     "timestamp": 1632344871286,
     "user": {
      "displayName": "Peter Pann",
      "photoUrl": "https://lh3.googleusercontent.com/a/default-user=s64",
      "userId": "15099877773797828879"
     },
     "user_tz": -120
    },
    "id": "WZKWxT1tJnuX",
    "outputId": "d7bf84b0-b26d-4ce2-8b67-293f87cec34a"
   },
   "outputs": [
    {
     "data": {
      "text/html": [
       "<div>\n",
       "<style scoped>\n",
       "    .dataframe tbody tr th:only-of-type {\n",
       "        vertical-align: middle;\n",
       "    }\n",
       "\n",
       "    .dataframe tbody tr th {\n",
       "        vertical-align: top;\n",
       "    }\n",
       "\n",
       "    .dataframe thead th {\n",
       "        text-align: right;\n",
       "    }\n",
       "</style>\n",
       "<table border=\"1\" class=\"dataframe\">\n",
       "  <thead>\n",
       "    <tr style=\"text-align: right;\">\n",
       "      <th></th>\n",
       "      <th>gender</th>\n",
       "      <th>scheduled_day</th>\n",
       "      <th>appointment_day</th>\n",
       "      <th>age</th>\n",
       "      <th>neighbourhood</th>\n",
       "      <th>scholarship</th>\n",
       "      <th>hipertension</th>\n",
       "      <th>diabetes</th>\n",
       "      <th>alcoholism</th>\n",
       "      <th>handicap</th>\n",
       "      <th>sms_received</th>\n",
       "      <th>no_show</th>\n",
       "    </tr>\n",
       "  </thead>\n",
       "  <tbody>\n",
       "    <tr>\n",
       "      <th>0</th>\n",
       "      <td>F</td>\n",
       "      <td>2016-04-29T18:38:08Z</td>\n",
       "      <td>2016-04-29T00:00:00Z</td>\n",
       "      <td>62</td>\n",
       "      <td>JARDIM DA PENHA</td>\n",
       "      <td>0</td>\n",
       "      <td>1</td>\n",
       "      <td>0</td>\n",
       "      <td>0</td>\n",
       "      <td>0</td>\n",
       "      <td>0</td>\n",
       "      <td>No</td>\n",
       "    </tr>\n",
       "  </tbody>\n",
       "</table>\n",
       "</div>"
      ],
      "text/plain": [
       "  gender         scheduled_day       appointment_day  age    neighbourhood  \\\n",
       "0      F  2016-04-29T18:38:08Z  2016-04-29T00:00:00Z   62  JARDIM DA PENHA   \n",
       "\n",
       "   scholarship  hipertension  diabetes  alcoholism  handicap  sms_received  \\\n",
       "0            0             1         0           0         0             0   \n",
       "\n",
       "  no_show  \n",
       "0      No  "
      ]
     },
     "execution_count": 16,
     "metadata": {},
     "output_type": "execute_result"
    }
   ],
   "source": [
    "df.head(1)"
   ]
  },
  {
   "cell_type": "markdown",
   "metadata": {
    "id": "pMUpaxcjieDF"
   },
   "source": [
    "\n",
    "#### Convert 'scheduledday' and 'appointmentday' to datetime:"
   ]
  },
  {
   "cell_type": "code",
   "execution_count": 17,
   "metadata": {
    "executionInfo": {
     "elapsed": 9,
     "status": "ok",
     "timestamp": 1632344871286,
     "user": {
      "displayName": "Peter Pann",
      "photoUrl": "https://lh3.googleusercontent.com/a/default-user=s64",
      "userId": "15099877773797828879"
     },
     "user_tz": -120
    },
    "id": "MZjO-KliieDF"
   },
   "outputs": [],
   "source": [
    "df['scheduled_day'] = pd.to_datetime(df['scheduled_day'])\n",
    "df['appointment_day'] = pd.to_datetime(df['appointment_day'])"
   ]
  },
  {
   "cell_type": "markdown",
   "metadata": {
    "id": "OWaEOPsJJe3f"
   },
   "source": [
    "##### Confirm changes"
   ]
  },
  {
   "cell_type": "code",
   "execution_count": 18,
   "metadata": {
    "colab": {
     "base_uri": "https://localhost:8080/"
    },
    "executionInfo": {
     "elapsed": 9,
     "status": "ok",
     "timestamp": 1632344871286,
     "user": {
      "displayName": "Peter Pann",
      "photoUrl": "https://lh3.googleusercontent.com/a/default-user=s64",
      "userId": "15099877773797828879"
     },
     "user_tz": -120
    },
    "id": "-T_uC9K2Jfc_",
    "outputId": "af260617-51b9-41a6-9042-0c15b5197676"
   },
   "outputs": [
    {
     "name": "stdout",
     "output_type": "stream",
     "text": [
      "<class 'pandas.core.frame.DataFrame'>\n",
      "RangeIndex: 110527 entries, 0 to 110526\n",
      "Data columns (total 12 columns):\n",
      "gender             110527 non-null object\n",
      "scheduled_day      110527 non-null datetime64[ns]\n",
      "appointment_day    110527 non-null datetime64[ns]\n",
      "age                110527 non-null int64\n",
      "neighbourhood      110527 non-null object\n",
      "scholarship        110527 non-null int64\n",
      "hipertension       110527 non-null int64\n",
      "diabetes           110527 non-null int64\n",
      "alcoholism         110527 non-null int64\n",
      "handicap           110527 non-null int64\n",
      "sms_received       110527 non-null int64\n",
      "no_show            110527 non-null object\n",
      "dtypes: datetime64[ns](2), int64(7), object(3)\n",
      "memory usage: 10.1+ MB\n"
     ]
    }
   ],
   "source": [
    "df.info()"
   ]
  },
  {
   "cell_type": "markdown",
   "metadata": {
    "id": "ATYg51KoieDF"
   },
   "source": [
    "#### Create scheduled_Hour, appointment_day_of_week, appointment_month:"
   ]
  },
  {
   "cell_type": "code",
   "execution_count": 19,
   "metadata": {
    "executionInfo": {
     "elapsed": 9,
     "status": "ok",
     "timestamp": 1632344871287,
     "user": {
      "displayName": "Peter Pann",
      "photoUrl": "https://lh3.googleusercontent.com/a/default-user=s64",
      "userId": "15099877773797828879"
     },
     "user_tz": -120
    },
    "id": "GI9flCaWieDF"
   },
   "outputs": [],
   "source": [
    "df['scheduled_hour'] = df['scheduled_day'].dt.hour\n",
    "df['scheduled_day'] = pd.to_datetime(df['scheduled_day'].dt.date)\n",
    "\n",
    "df['appointment_day_of_week'] = df['appointment_day'].dt.day_name()\n",
    "df['appointment_month'] = df['appointment_day'].dt.month\n",
    "df['appointment_day'] = pd.to_datetime(df['appointment_day'].dt.date)"
   ]
  },
  {
   "cell_type": "markdown",
   "metadata": {
    "id": "h_H_OkBcieDF"
   },
   "source": [
    "##### Confirm changes"
   ]
  },
  {
   "cell_type": "code",
   "execution_count": 20,
   "metadata": {
    "colab": {
     "base_uri": "https://localhost:8080/",
     "height": 0
    },
    "executionInfo": {
     "elapsed": 13,
     "status": "ok",
     "timestamp": 1632344872043,
     "user": {
      "displayName": "Peter Pann",
      "photoUrl": "https://lh3.googleusercontent.com/a/default-user=s64",
      "userId": "15099877773797828879"
     },
     "user_tz": -120
    },
    "id": "QAML6sZcqjc7",
    "outputId": "6ecddf83-4718-43cf-8631-e283576823b4"
   },
   "outputs": [
    {
     "data": {
      "text/html": [
       "<div>\n",
       "<style scoped>\n",
       "    .dataframe tbody tr th:only-of-type {\n",
       "        vertical-align: middle;\n",
       "    }\n",
       "\n",
       "    .dataframe tbody tr th {\n",
       "        vertical-align: top;\n",
       "    }\n",
       "\n",
       "    .dataframe thead th {\n",
       "        text-align: right;\n",
       "    }\n",
       "</style>\n",
       "<table border=\"1\" class=\"dataframe\">\n",
       "  <thead>\n",
       "    <tr style=\"text-align: right;\">\n",
       "      <th></th>\n",
       "      <th>gender</th>\n",
       "      <th>scheduled_day</th>\n",
       "      <th>appointment_day</th>\n",
       "      <th>age</th>\n",
       "      <th>neighbourhood</th>\n",
       "      <th>scholarship</th>\n",
       "      <th>hipertension</th>\n",
       "      <th>diabetes</th>\n",
       "      <th>alcoholism</th>\n",
       "      <th>handicap</th>\n",
       "      <th>sms_received</th>\n",
       "      <th>no_show</th>\n",
       "      <th>scheduled_hour</th>\n",
       "      <th>appointment_day_of_week</th>\n",
       "      <th>appointment_month</th>\n",
       "    </tr>\n",
       "  </thead>\n",
       "  <tbody>\n",
       "    <tr>\n",
       "      <th>0</th>\n",
       "      <td>F</td>\n",
       "      <td>2016-04-29</td>\n",
       "      <td>2016-04-29</td>\n",
       "      <td>62</td>\n",
       "      <td>JARDIM DA PENHA</td>\n",
       "      <td>0</td>\n",
       "      <td>1</td>\n",
       "      <td>0</td>\n",
       "      <td>0</td>\n",
       "      <td>0</td>\n",
       "      <td>0</td>\n",
       "      <td>No</td>\n",
       "      <td>18</td>\n",
       "      <td>Friday</td>\n",
       "      <td>4</td>\n",
       "    </tr>\n",
       "  </tbody>\n",
       "</table>\n",
       "</div>"
      ],
      "text/plain": [
       "  gender scheduled_day appointment_day  age    neighbourhood  scholarship  \\\n",
       "0      F    2016-04-29      2016-04-29   62  JARDIM DA PENHA            0   \n",
       "\n",
       "   hipertension  diabetes  alcoholism  handicap  sms_received no_show  \\\n",
       "0             1         0           0         0             0      No   \n",
       "\n",
       "   scheduled_hour appointment_day_of_week  appointment_month  \n",
       "0              18                  Friday                  4  "
      ]
     },
     "execution_count": 20,
     "metadata": {},
     "output_type": "execute_result"
    }
   ],
   "source": [
    "df.head(1)"
   ]
  },
  {
   "cell_type": "code",
   "execution_count": 21,
   "metadata": {
    "colab": {
     "base_uri": "https://localhost:8080/"
    },
    "executionInfo": {
     "elapsed": 764,
     "status": "ok",
     "timestamp": 1632344872042,
     "user": {
      "displayName": "Peter Pann",
      "photoUrl": "https://lh3.googleusercontent.com/a/default-user=s64",
      "userId": "15099877773797828879"
     },
     "user_tz": -120
    },
    "id": "YRK_A4gwieDG",
    "outputId": "1a529781-c5eb-4585-d542-65968ca27e5a",
    "scrolled": true
   },
   "outputs": [
    {
     "name": "stdout",
     "output_type": "stream",
     "text": [
      "<class 'pandas.core.frame.DataFrame'>\n",
      "RangeIndex: 110527 entries, 0 to 110526\n",
      "Data columns (total 15 columns):\n",
      "gender                     110527 non-null object\n",
      "scheduled_day              110527 non-null datetime64[ns]\n",
      "appointment_day            110527 non-null datetime64[ns]\n",
      "age                        110527 non-null int64\n",
      "neighbourhood              110527 non-null object\n",
      "scholarship                110527 non-null int64\n",
      "hipertension               110527 non-null int64\n",
      "diabetes                   110527 non-null int64\n",
      "alcoholism                 110527 non-null int64\n",
      "handicap                   110527 non-null int64\n",
      "sms_received               110527 non-null int64\n",
      "no_show                    110527 non-null object\n",
      "scheduled_hour             110527 non-null int64\n",
      "appointment_day_of_week    110527 non-null object\n",
      "appointment_month          110527 non-null int64\n",
      "dtypes: datetime64[ns](2), int64(9), object(4)\n",
      "memory usage: 12.6+ MB\n"
     ]
    }
   ],
   "source": [
    "df.info()"
   ]
  },
  {
   "cell_type": "markdown",
   "metadata": {
    "id": "zdTcG4zhieDG"
   },
   "source": [
    "#### Search for invaild dates:"
   ]
  },
  {
   "cell_type": "code",
   "execution_count": 22,
   "metadata": {
    "executionInfo": {
     "elapsed": 11,
     "status": "ok",
     "timestamp": 1632344872043,
     "user": {
      "displayName": "Peter Pann",
      "photoUrl": "https://lh3.googleusercontent.com/a/default-user=s64",
      "userId": "15099877773797828879"
     },
     "user_tz": -120
    },
    "id": "sI775dW4ieDG"
   },
   "outputs": [],
   "source": [
    "df['num_odays'] = (df['appointment_day'] - df['scheduled_day']).dt.days"
   ]
  },
  {
   "cell_type": "code",
   "execution_count": 23,
   "metadata": {
    "colab": {
     "base_uri": "https://localhost:8080/"
    },
    "executionInfo": {
     "elapsed": 12,
     "status": "ok",
     "timestamp": 1632344872044,
     "user": {
      "displayName": "Peter Pann",
      "photoUrl": "https://lh3.googleusercontent.com/a/default-user=s64",
      "userId": "15099877773797828879"
     },
     "user_tz": -120
    },
    "id": "UM-aTPfQieDG",
    "outputId": "013b367c-a4cb-412c-ead8-4d733147f78d"
   },
   "outputs": [
    {
     "name": "stdout",
     "output_type": "stream",
     "text": [
      "[-6, -1, 0, 1, 2, 3, 4, 5, 6, 7, 8, 9, 10, 11, 12, 13, 14, 15, 16, 17, 18, 19, 20, 21, 22, 23, 24, 25, 26, 27, 28, 29, 30, 31, 32, 33, 34, 35, 36, 37, 38, 39, 40, 41, 42, 43, 44, 45, 46, 47, 48, 49, 50, 51, 52, 53, 54, 55, 56, 57, 58, 59, 60, 61, 62, 63, 64, 65, 66, 67, 68, 69, 70, 71, 72, 73, 74, 75, 76, 77, 78, 79, 80, 81, 82, 83, 84, 85, 86, 87, 88, 89, 90, 91, 92, 93, 94, 95, 96, 97, 98, 101, 102, 103, 104, 105, 107, 108, 109, 110, 111, 112, 115, 117, 119, 122, 123, 125, 126, 127, 132, 133, 139, 142, 146, 151, 155, 162, 169, 176, 179]\n"
     ]
    }
   ],
   "source": [
    "print(check_unique_values('num_odays'))"
   ]
  },
  {
   "cell_type": "code",
   "execution_count": 24,
   "metadata": {
    "colab": {
     "base_uri": "https://localhost:8080/"
    },
    "executionInfo": {
     "elapsed": 11,
     "status": "ok",
     "timestamp": 1632344872044,
     "user": {
      "displayName": "Peter Pann",
      "photoUrl": "https://lh3.googleusercontent.com/a/default-user=s64",
      "userId": "15099877773797828879"
     },
     "user_tz": -120
    },
    "id": "2fQP-KwOieDG",
    "outputId": "2fa23cb0-b388-41c1-ac4a-4b991cc234ac",
    "scrolled": true
   },
   "outputs": [
    {
     "data": {
      "text/plain": [
       "-6        1\n",
       "-1        4\n",
       " 0    38563\n",
       " 1     5213\n",
       " 2     6725\n",
       "Name: num_odays, dtype: int64"
      ]
     },
     "execution_count": 24,
     "metadata": {},
     "output_type": "execute_result"
    }
   ],
   "source": [
    "count_sort('num_odays').iloc[:5]"
   ]
  },
  {
   "cell_type": "markdown",
   "metadata": {
    "id": "z5slSXFHGsiL"
   },
   "source": [
    "Only 5, so will be dropped"
   ]
  },
  {
   "cell_type": "markdown",
   "metadata": {
    "id": "cCxfneVeieDH"
   },
   "source": [
    "#### Drop invaild dates:"
   ]
  },
  {
   "cell_type": "code",
   "execution_count": 25,
   "metadata": {
    "executionInfo": {
     "elapsed": 11,
     "status": "ok",
     "timestamp": 1632344872044,
     "user": {
      "displayName": "Peter Pann",
      "photoUrl": "https://lh3.googleusercontent.com/a/default-user=s64",
      "userId": "15099877773797828879"
     },
     "user_tz": -120
    },
    "id": "StHDTgCFieDH"
   },
   "outputs": [],
   "source": [
    "df = df.query('num_odays>=0')"
   ]
  },
  {
   "cell_type": "markdown",
   "metadata": {
    "id": "3I0eh7VKieDH"
   },
   "source": [
    "##### Confirm changes"
   ]
  },
  {
   "cell_type": "code",
   "execution_count": 26,
   "metadata": {},
   "outputs": [
    {
     "data": {
      "text/plain": [
       "0    38563\n",
       "1     5213\n",
       "2     6725\n",
       "3     2737\n",
       "4     5290\n",
       "Name: num_odays, dtype: int64"
      ]
     },
     "execution_count": 26,
     "metadata": {},
     "output_type": "execute_result"
    }
   ],
   "source": [
    "count_sort('num_odays').iloc[:5]"
   ]
  },
  {
   "cell_type": "markdown",
   "metadata": {
    "id": "OkxyRPDcieDH"
   },
   "source": [
    "\n",
    "#### Convert no_show to integer (0, 1):"
   ]
  },
  {
   "cell_type": "code",
   "execution_count": 27,
   "metadata": {
    "executionInfo": {
     "elapsed": 11,
     "status": "ok",
     "timestamp": 1632344872045,
     "user": {
      "displayName": "Peter Pann",
      "photoUrl": "https://lh3.googleusercontent.com/a/default-user=s64",
      "userId": "15099877773797828879"
     },
     "user_tz": -120
    },
    "id": "ilYF38FhieDH"
   },
   "outputs": [],
   "source": [
    "df['no_show'] = df['no_show'].apply(lambda x: 0 if x == \"No\" else 1)"
   ]
  },
  {
   "cell_type": "markdown",
   "metadata": {
    "id": "d-7DTrVDJJp2"
   },
   "source": [
    "##### Confirm changes"
   ]
  },
  {
   "cell_type": "code",
   "execution_count": 28,
   "metadata": {
    "colab": {
     "base_uri": "https://localhost:8080/"
    },
    "executionInfo": {
     "elapsed": 10,
     "status": "ok",
     "timestamp": 1632344872045,
     "user": {
      "displayName": "Peter Pann",
      "photoUrl": "https://lh3.googleusercontent.com/a/default-user=s64",
      "userId": "15099877773797828879"
     },
     "user_tz": -120
    },
    "id": "GH7dlBAkieDI",
    "outputId": "a77ab8ff-25fe-45c8-b77d-457e78a23920"
   },
   "outputs": [
    {
     "name": "stdout",
     "output_type": "stream",
     "text": [
      "[0, 1]\n"
     ]
    }
   ],
   "source": [
    "print(check_unique_values('no_show'))"
   ]
  },
  {
   "cell_type": "markdown",
   "metadata": {
    "id": "XqaKJiGxieDI"
   },
   "source": [
    "\n",
    "#### Drop the invalid age values:"
   ]
  },
  {
   "cell_type": "code",
   "execution_count": 29,
   "metadata": {
    "executionInfo": {
     "elapsed": 10,
     "status": "ok",
     "timestamp": 1632344872045,
     "user": {
      "displayName": "Peter Pann",
      "photoUrl": "https://lh3.googleusercontent.com/a/default-user=s64",
      "userId": "15099877773797828879"
     },
     "user_tz": -120
    },
    "id": "RarDpy1fieDI",
    "scrolled": true
   },
   "outputs": [],
   "source": [
    "df = df.query('age>=0 and age<=102')"
   ]
  },
  {
   "cell_type": "markdown",
   "metadata": {
    "id": "6p9rHeZOJPb8"
   },
   "source": [
    "##### Confirm changes"
   ]
  },
  {
   "cell_type": "code",
   "execution_count": 30,
   "metadata": {
    "colab": {
     "base_uri": "https://localhost:8080/"
    },
    "executionInfo": {
     "elapsed": 10,
     "status": "ok",
     "timestamp": 1632344872046,
     "user": {
      "displayName": "Peter Pann",
      "photoUrl": "https://lh3.googleusercontent.com/a/default-user=s64",
      "userId": "15099877773797828879"
     },
     "user_tz": -120
    },
    "id": "1dDcF4FGieDI",
    "outputId": "9470bc6a-19da-4272-e6bf-ca19660a7031",
    "scrolled": true
   },
   "outputs": [
    {
     "name": "stdout",
     "output_type": "stream",
     "text": [
      "[0, 1, 2, 3, 4, 5, 6, 7, 8, 9, 10, 11, 12, 13, 14, 15, 16, 17, 18, 19, 20, 21, 22, 23, 24, 25, 26, 27, 28, 29, 30, 31, 32, 33, 34, 35, 36, 37, 38, 39, 40, 41, 42, 43, 44, 45, 46, 47, 48, 49, 50, 51, 52, 53, 54, 55, 56, 57, 58, 59, 60, 61, 62, 63, 64, 65, 66, 67, 68, 69, 70, 71, 72, 73, 74, 75, 76, 77, 78, 79, 80, 81, 82, 83, 84, 85, 86, 87, 88, 89, 90, 91, 92, 93, 94, 95, 96, 97, 98, 99, 100, 102]\n"
     ]
    }
   ],
   "source": [
    "print(check_unique_values('age'))"
   ]
  },
  {
   "cell_type": "markdown",
   "metadata": {
    "id": "vSXsDoO8ieDJ"
   },
   "source": [
    "\n",
    "#### Replace the higher values of handicap to 1"
   ]
  },
  {
   "cell_type": "code",
   "execution_count": 31,
   "metadata": {
    "executionInfo": {
     "elapsed": 10,
     "status": "ok",
     "timestamp": 1632344872046,
     "user": {
      "displayName": "Peter Pann",
      "photoUrl": "https://lh3.googleusercontent.com/a/default-user=s64",
      "userId": "15099877773797828879"
     },
     "user_tz": -120
    },
    "id": "gN3FNtgBieDJ"
   },
   "outputs": [],
   "source": [
    "df['handicap'] = df['handicap'].apply(lambda x: 1 if x >= 1 else 0)"
   ]
  },
  {
   "cell_type": "markdown",
   "metadata": {
    "id": "JSTx2qBsJW5b"
   },
   "source": [
    "##### Confirm changes"
   ]
  },
  {
   "cell_type": "code",
   "execution_count": 32,
   "metadata": {
    "colab": {
     "base_uri": "https://localhost:8080/"
    },
    "executionInfo": {
     "elapsed": 10,
     "status": "ok",
     "timestamp": 1632344872046,
     "user": {
      "displayName": "Peter Pann",
      "photoUrl": "https://lh3.googleusercontent.com/a/default-user=s64",
      "userId": "15099877773797828879"
     },
     "user_tz": -120
    },
    "id": "DlNpXWpSieDJ",
    "outputId": "d4868c7f-8728-43e7-8a56-5b54d9af7387"
   },
   "outputs": [
    {
     "name": "stdout",
     "output_type": "stream",
     "text": [
      "[0, 1]\n"
     ]
    }
   ],
   "source": [
    "print(check_unique_values('handicap'))"
   ]
  },
  {
   "cell_type": "markdown",
   "metadata": {
    "id": "r6VaYn9TieDJ"
   },
   "source": [
    "<a id='eda'></a>\n",
    "## Exploratory Data Analysis\n",
    "\n"
   ]
  },
  {
   "cell_type": "code",
   "execution_count": 33,
   "metadata": {
    "colab": {
     "base_uri": "https://localhost:8080/"
    },
    "executionInfo": {
     "elapsed": 414,
     "status": "ok",
     "timestamp": 1632344879700,
     "user": {
      "displayName": "Peter Pann",
      "photoUrl": "https://lh3.googleusercontent.com/a/default-user=s64",
      "userId": "15099877773797828879"
     },
     "user_tz": -120
    },
    "id": "rNJx0JI_GNNP",
    "outputId": "e4c8e97a-8826-41fd-dd2c-b62a798bfc80"
   },
   "outputs": [
    {
     "name": "stdout",
     "output_type": "stream",
     "text": [
      "<class 'pandas.core.frame.DataFrame'>\n",
      "Int64Index: 110516 entries, 0 to 110526\n",
      "Data columns (total 16 columns):\n",
      "gender                     110516 non-null object\n",
      "scheduled_day              110516 non-null datetime64[ns]\n",
      "appointment_day            110516 non-null datetime64[ns]\n",
      "age                        110516 non-null int64\n",
      "neighbourhood              110516 non-null object\n",
      "scholarship                110516 non-null int64\n",
      "hipertension               110516 non-null int64\n",
      "diabetes                   110516 non-null int64\n",
      "alcoholism                 110516 non-null int64\n",
      "handicap                   110516 non-null int64\n",
      "sms_received               110516 non-null int64\n",
      "no_show                    110516 non-null int64\n",
      "scheduled_hour             110516 non-null int64\n",
      "appointment_day_of_week    110516 non-null object\n",
      "appointment_month          110516 non-null int64\n",
      "num_odays                  110516 non-null int64\n",
      "dtypes: datetime64[ns](2), int64(11), object(3)\n",
      "memory usage: 14.3+ MB\n"
     ]
    }
   ],
   "source": [
    "df.info()"
   ]
  },
  {
   "cell_type": "markdown",
   "metadata": {
    "id": "gHycAfKhtSNi"
   },
   "source": [
    "#### Creeating series of boolean index to help selecting data"
   ]
  },
  {
   "cell_type": "code",
   "execution_count": 34,
   "metadata": {
    "executionInfo": {
     "elapsed": 466,
     "status": "ok",
     "timestamp": 1632344896150,
     "user": {
      "displayName": "Peter Pann",
      "photoUrl": "https://lh3.googleusercontent.com/a/default-user=s64",
      "userId": "15099877773797828879"
     },
     "user_tz": -120
    },
    "id": "QfjsumcQm_Z5"
   },
   "outputs": [],
   "source": [
    "showed = df.no_show == 0\n",
    "dntshow = df.no_show == 1"
   ]
  },
  {
   "cell_type": "markdown",
   "metadata": {
    "id": "epKG8f5tQ3Zc"
   },
   "source": [
    "##### Confirm changes"
   ]
  },
  {
   "cell_type": "code",
   "execution_count": 35,
   "metadata": {
    "colab": {
     "base_uri": "https://localhost:8080/",
     "height": 0
    },
    "executionInfo": {
     "elapsed": 4,
     "status": "ok",
     "timestamp": 1632344896699,
     "user": {
      "displayName": "Peter Pann",
      "photoUrl": "https://lh3.googleusercontent.com/a/default-user=s64",
      "userId": "15099877773797828879"
     },
     "user_tz": -120
    },
    "id": "y2gcwRLcsMb4",
    "outputId": "a2ba0c90-96b2-4625-f69d-a17128dc14ef"
   },
   "outputs": [
    {
     "data": {
      "text/html": [
       "<div>\n",
       "<style scoped>\n",
       "    .dataframe tbody tr th:only-of-type {\n",
       "        vertical-align: middle;\n",
       "    }\n",
       "\n",
       "    .dataframe tbody tr th {\n",
       "        vertical-align: top;\n",
       "    }\n",
       "\n",
       "    .dataframe thead th {\n",
       "        text-align: right;\n",
       "    }\n",
       "</style>\n",
       "<table border=\"1\" class=\"dataframe\">\n",
       "  <thead>\n",
       "    <tr style=\"text-align: right;\">\n",
       "      <th></th>\n",
       "      <th>gender</th>\n",
       "      <th>scheduled_day</th>\n",
       "      <th>appointment_day</th>\n",
       "      <th>age</th>\n",
       "      <th>neighbourhood</th>\n",
       "      <th>scholarship</th>\n",
       "      <th>hipertension</th>\n",
       "      <th>diabetes</th>\n",
       "      <th>alcoholism</th>\n",
       "      <th>handicap</th>\n",
       "      <th>sms_received</th>\n",
       "      <th>no_show</th>\n",
       "      <th>scheduled_hour</th>\n",
       "      <th>appointment_day_of_week</th>\n",
       "      <th>appointment_month</th>\n",
       "      <th>num_odays</th>\n",
       "    </tr>\n",
       "  </thead>\n",
       "  <tbody>\n",
       "    <tr>\n",
       "      <th>6</th>\n",
       "      <td>F</td>\n",
       "      <td>2016-04-27</td>\n",
       "      <td>2016-04-29</td>\n",
       "      <td>23</td>\n",
       "      <td>GOIABEIRAS</td>\n",
       "      <td>0</td>\n",
       "      <td>0</td>\n",
       "      <td>0</td>\n",
       "      <td>0</td>\n",
       "      <td>0</td>\n",
       "      <td>0</td>\n",
       "      <td>1</td>\n",
       "      <td>15</td>\n",
       "      <td>Friday</td>\n",
       "      <td>4</td>\n",
       "      <td>2</td>\n",
       "    </tr>\n",
       "    <tr>\n",
       "      <th>7</th>\n",
       "      <td>F</td>\n",
       "      <td>2016-04-27</td>\n",
       "      <td>2016-04-29</td>\n",
       "      <td>39</td>\n",
       "      <td>GOIABEIRAS</td>\n",
       "      <td>0</td>\n",
       "      <td>0</td>\n",
       "      <td>0</td>\n",
       "      <td>0</td>\n",
       "      <td>0</td>\n",
       "      <td>0</td>\n",
       "      <td>1</td>\n",
       "      <td>15</td>\n",
       "      <td>Friday</td>\n",
       "      <td>4</td>\n",
       "      <td>2</td>\n",
       "    </tr>\n",
       "  </tbody>\n",
       "</table>\n",
       "</div>"
      ],
      "text/plain": [
       "  gender scheduled_day appointment_day  age neighbourhood  scholarship  \\\n",
       "6      F    2016-04-27      2016-04-29   23    GOIABEIRAS            0   \n",
       "7      F    2016-04-27      2016-04-29   39    GOIABEIRAS            0   \n",
       "\n",
       "   hipertension  diabetes  alcoholism  handicap  sms_received  no_show  \\\n",
       "6             0         0           0         0             0        1   \n",
       "7             0         0           0         0             0        1   \n",
       "\n",
       "   scheduled_hour appointment_day_of_week  appointment_month  num_odays  \n",
       "6              15                  Friday                  4          2  \n",
       "7              15                  Friday                  4          2  "
      ]
     },
     "execution_count": 35,
     "metadata": {},
     "output_type": "execute_result"
    }
   ],
   "source": [
    "# this will show the first 2 lines of data that contains the patients that didn't show for the appointment.\n",
    "df[dntshow].head(2)"
   ]
  },
  {
   "cell_type": "markdown",
   "metadata": {
    "id": "Mp_0jkztieDK"
   },
   "source": [
    "### Research Question 1 (Are Females More Likely to Show Than Males?)"
   ]
  },
  {
   "cell_type": "markdown",
   "metadata": {},
   "source": [
    "#### why is it important to examine that question?\n",
    "- It's very important for defining if the patient is going to appointment or not.\n",
    "- it's also helpful to identify patterns and how each gender react with the health care."
   ]
  },
  {
   "cell_type": "markdown",
   "metadata": {
    "id": "yyz0Kp4I3nUn"
   },
   "source": [
    "#### Probability of females and males to show up"
   ]
  },
  {
   "cell_type": "code",
   "execution_count": 36,
   "metadata": {
    "colab": {
     "base_uri": "https://localhost:8080/"
    },
    "executionInfo": {
     "elapsed": 294,
     "status": "ok",
     "timestamp": 1632344956965,
     "user": {
      "displayName": "Peter Pann",
      "photoUrl": "https://lh3.googleusercontent.com/a/default-user=s64",
      "userId": "15099877773797828879"
     },
     "user_tz": -120
    },
    "id": "-fQKw8RUvMTw",
    "outputId": "ad88c420-5515-4084-a7d6-6152623d87ba"
   },
   "outputs": [],
   "source": [
    "# start by creating the variable <showed_mf> with our function count_sort which is pandas series containing the counts\n",
    "# of Males and Females that showed to the apappointment and the labels are sorted alphabetically (F, M).\n",
    "showed_mf = count_sort(showed,'gender')\n",
    "\n",
    "#creating dntshow_mf which are simmilar to showed_mf but with the patints that didn't show for the appointment.\n",
    "d ntshow_mf = count_sort(dntshow,'gender')\n",
    "\n",
    "# reating the tot_mf variable which conatins the total count of both males and females in both cases (show, non-show).\n",
    "tot_mf = count_sort('gender')"
   ]
  },
  {
   "cell_type": "code",
   "execution_count": 37,
   "metadata": {},
   "outputs": [
    {
     "data": {
      "text/plain": [
       "F    79.69122\n",
       "M    80.03619\n",
       "Name: gender, dtype: float64"
      ]
     },
     "execution_count": 37,
     "metadata": {},
     "output_type": "execute_result"
    }
   ],
   "source": [
    "# dividing the showed_mf by tot_mf and multiply by 100 \n",
    "# to get the propaplity % of both males and females to show for the appointment.\n",
    "(showed_mf/tot_mf)*100"
   ]
  },
  {
   "cell_type": "markdown",
   "metadata": {
    "id": "tTkC_cwYzfFy"
   },
   "source": [
    "#### Results\n",
    "- Males are more likely to show than females by 80.03619 - 79.69122 = 0.34%."
   ]
  },
  {
   "cell_type": "markdown",
   "metadata": {
    "id": "ix1Jrqec4Qzl"
   },
   "source": [
    "#### Number of appointments by gender"
   ]
  },
  {
   "cell_type": "code",
   "execution_count": 38,
   "metadata": {
    "colab": {
     "base_uri": "https://localhost:8080/",
     "height": 346
    },
    "executionInfo": {
     "elapsed": 639,
     "status": "ok",
     "timestamp": 1632352444003,
     "user": {
      "displayName": "Peter Pann",
      "photoUrl": "https://lh3.googleusercontent.com/a/default-user=s64",
      "userId": "15099877773797828879"
     },
     "user_tz": -120
    },
    "id": "fTysvopUieDK",
    "outputId": "e11b8aa2-d7ac-4865-9b6e-e7e9ec01c3a0",
    "scrolled": false
   },
   "outputs": [
    {
     "data": {
      "image/png": "[encoded data removed]",
      "text/plain": [
       "<matplotlib.figure.Figure at 0x7fda658c9240>"
      ]
     },
     "metadata": {
      "needs_background": "light"
     },
     "output_type": "display_data"
    }
   ],
   "source": [
    "# defining the labels\n",
    "labels = ['Female', 'Male']\n",
    "\n",
    "# assigning AxesSubplot to the variable ax to help formating the graph.\n",
    "#changing the figure size value to make it bigger and more easy to read.\n",
    "fig, ax = plt.subplots(figsize=(8, 5))\n",
    "\n",
    "# plot the number of appointments made by males and females.\n",
    "ax.bar(labels, showed_mf, label='Showed')\n",
    "\n",
    "# staking the second plot on the first to view the number of non-show appointments made by males and females.\n",
    "ax.bar(labels, dntshow_mf, bottom=showed_mf, label=\"Didn't Show\")\n",
    "\n",
    "# giving the graph axis names and title\n",
    "ax.set_ylabel('Number of Appointments', fontsize=18)\n",
    "ax.set_title('Number of Appointments by Gender', fontsize=26)\n",
    "\n",
    "# adding legend\n",
    "ax.legend();"
   ]
  },
  {
   "cell_type": "markdown",
   "metadata": {
    "id": "45N8CX7-2C0o"
   },
   "source": [
    "#### Results\n",
    "- Females are definitely more likely to go to the hospital and take a better care about thier health than males.\n",
    "\n",
    "#### Conclusions\n",
    "\n",
    "- Males are more likely to show than females by 0.34% .\n",
    "- Females are definitely more likely to go to the hospital and take a better care about thier health than males.\n",
    "\n",
    "#### Insights\n",
    "\n",
    "- there should be more ways to educate males about the importance of helth care and visiting the doctors.\n",
    "- the slight difference in the Probability to show up isn't enough to come with a decision if the gender effects ethir the appointment will be made or not."
   ]
  },
  {
   "cell_type": "markdown",
   "metadata": {
    "id": "ELIt0Xl2ieDL"
   },
   "source": [
    "### Research Question 2  (Is There An Age Range That Most Likely To Show, Or Not To Show? )"
   ]
  },
  {
   "cell_type": "markdown",
   "metadata": {},
   "source": [
    "#### why is it important to examine that question?\n",
    "- It's very important for defining if patient is going to appointment or not.\n",
    "- it's also helpful to identify patterns and how each age range react with the health care.\n",
    "- to check if children having propper helth care.\n",
    "- to find out what age range need too be educated about health care."
   ]
  },
  {
   "cell_type": "markdown",
   "metadata": {
    "id": "eRVZHDWzDrC0"
   },
   "source": [
    "#### Number of appointments by age"
   ]
  },
  {
   "cell_type": "code",
   "execution_count": 39,
   "metadata": {
    "colab": {
     "base_uri": "https://localhost:8080/",
     "height": 346
    },
    "executionInfo": {
     "elapsed": 1126,
     "status": "ok",
     "timestamp": 1632352288518,
     "user": {
      "displayName": "Peter Pann",
      "photoUrl": "https://lh3.googleusercontent.com/a/default-user=s64",
      "userId": "15099877773797828879"
     },
     "user_tz": -120
    },
    "id": "22CcW9wE1EHS",
    "outputId": "9a3c7ad1-ce9c-4f87-d88e-be6d8ef6ceb4",
    "scrolled": true
   },
   "outputs": [
    {
     "data": {
      "image/png": "[encoded data removed]",
      "text/plain": [
       "<matplotlib.figure.Figure at 0x7fda65891668>"
      ]
     },
     "metadata": {
      "needs_background": "light"
     },
     "output_type": "display_data"
    }
   ],
   "source": [
    "# assigning AxesSubplot to the variable ax1 to help formating the graph.\n",
    "# changing the figure size value to make it bigger and more easy to read.\n",
    "fig, ax1 = plt.subplots(figsize=(8, 5))\n",
    "\n",
    "# plot the number of appointments made by each age range by plotting histogram using the builtin function hist().\n",
    "# assigning the number of bins to 10 to make it more accurate\n",
    "ax1.hist(df.age, bins=10, label='total')\n",
    "\n",
    "\n",
    "# plot second histogram to view the number of non-show appointments made by each age range.\n",
    "# assigning the number of bins to 10 to make it more accurate, giving it a slight transparency to make it clear.\n",
    "ax1.hist(df[showed].age, alpha=0.9, bins=10, label='Showed')\n",
    "\n",
    "# giving the graph axis names and title\n",
    "ax1.set_ylabel('Number of Appointments', fontsize=18)\n",
    "ax1.set_title('Number of Appointments by Age', fontsize=26)\n",
    "\n",
    "# adding legend\n",
    "ax1.legend();"
   ]
  },
  {
   "cell_type": "markdown",
   "metadata": {
    "id": "uow5T59mBaik"
   },
   "source": [
    "#### Results\n",
    "- The highest numbers of appointments are made by Patients in age range between (0 to 10) and (50 to 60)."
   ]
  },
  {
   "cell_type": "markdown",
   "metadata": {
    "id": "toDzOL89DwYE"
   },
   "source": [
    "#### Probabilities of age ranges to show up"
   ]
  },
  {
   "cell_type": "code",
   "execution_count": 40,
   "metadata": {},
   "outputs": [],
   "source": [
    "# creating list of numbers range from 0 to 100 to be used in divining the age ranges and creating the labels.\n",
    "bins = list(range(0,110,10))\n",
    "\n",
    "# labels are created using list comprehensive by combining each number in the list (10 - 20) \n",
    "# with the next one ignoring the first value zero.\n",
    "labels = [str(ii) +\" - \"+str(ii+10) for ii in bins[1:]]\n",
    "\n",
    "# creating variable with our function count_sort which is pandas series containing the counts \n",
    "# of age ranges that showed to the apappointment and the labels are sorted alphabetically.\n",
    "showed_age = count_sort(showed,'age',bins)\n",
    "\n",
    "# creating variable which conatins the total counts of all age ranges in both cases (show, non-show).\n",
    "tot_age = count_sort('age',bins=bins)"
   ]
  },
  {
   "cell_type": "code",
   "execution_count": 41,
   "metadata": {
    "colab": {
     "base_uri": "https://localhost:8080/",
     "height": 319
    },
    "executionInfo": {
     "elapsed": 946,
     "status": "ok",
     "timestamp": 1632352179636,
     "user": {
      "displayName": "Peter Pann",
      "photoUrl": "https://lh3.googleusercontent.com/a/default-user=s64",
      "userId": "15099877773797828879"
     },
     "user_tz": -120
    },
    "id": "JOtiNT1lieDK",
    "outputId": "4eae6815-3ed7-47cc-c3a4-8c1b49bfec42",
    "scrolled": true
   },
   "outputs": [
    {
     "data": {
      "image/png": "[encoded data removed]",
      "text/plain": [
       "<matplotlib.figure.Figure at 0x7fda6578d8d0>"
      ]
     },
     "metadata": {
      "needs_background": "light"
     },
     "output_type": "display_data"
    }
   ],
   "source": [
    "# changing the figure size value to make it bigger and more easy to read.\n",
    "plt.figure(figsize=(16, 4))\n",
    "\n",
    "# defining that there are 2 subplots in 1 row and 2 coulmns and we will work on number 1.\n",
    "plt.subplot(121)\n",
    "\n",
    "# assigning AxesSubplot to the variable ax2 to help formating the graph.\n",
    "# dividing the showed_age by tot_age and multiply by 100,\n",
    "# to get the propaplity % of all age ranges to show for the appointment,\n",
    "# and finaly using function plot.bar() we plot bar chart containing the probability of each age range to show.\n",
    "ax2 = (showed_age*100/tot_age).plot.bar();\n",
    "\n",
    "# changing the x-axis values labels to our list labels.\n",
    "ax2.set_xticklabels(labels);\n",
    "\n",
    "# giving the graph axis names and title\n",
    "ax2.set_ylabel('Probability to Show (%)', fontsize=18);\n",
    "ax2.set_title('Probability to Show by Age Ranges', fontsize=22);\n",
    "\n",
    "# defining that there are 2 subplots in 1 row and 2 coulmns and we will work on number 2.\n",
    "plt.subplot(122)\n",
    "\n",
    "# assigning AxesSubplot to the variable ax3 to help formating the graph.\n",
    "# dividing the showed_age by tot_age and multiply by 100,\n",
    "# to get the propaplity % of all age ranges to show for the appointment,\n",
    "# and finaly using function plot.bar() we plot line chart containing the probability of each age range to show.\n",
    "ax3 = (showed_age*100/tot_age).plot.line();\n",
    "\n",
    "# changing the x-axis values labels to our list labels.\n",
    "ax3.set_xticklabels(labels);\n",
    "\n",
    "# giving the graph axis names and title\n",
    "ax3.set_ylabel('Probability to Show (%)', fontsize=18);\n",
    "ax3.set_title('Probability to Show by Age Ranges', fontsize=22);\n",
    "\n",
    "# rotating the x-axis values labels 90'\n",
    "plt.xticks(rotation=90);"
   ]
  },
  {
   "cell_type": "markdown",
   "metadata": {
    "id": "ykUBmCLmyj8q"
   },
   "source": [
    "#### Results\n",
    "\n",
    "- The age range with the highest propaplity to show is (60 to 90) with average propaplity of 84.5%\n",
    "- The age range with the lowest propaplity to show is (10 to 30) with average propaplity of 75%\n",
    "\n",
    "#### Conclusions\n",
    "\n",
    "- The highest numbers of appointments are made by Patients in age range between (0 to 10) and (50 to 60).\n",
    "- The age range with the highest propaplity to show is (60 to 90) with average propaplity of 84.5%\n",
    "- The age range with the lowest propaplity to show is (10 to 30) with average propaplity of 75%\n",
    "\n",
    "#### Insights\n",
    "\n",
    "- There should be more ways to educate malespatients at the age between (10 to 30) about the importance of helth care and visiting the doctors.\n",
    "- The difference in the Probability to show up by age ranges is high enough to be considered one of the important characteristics of patients to come with a decision if the patient appointment will be made or not.\n"
   ]
  },
  {
   "cell_type": "markdown",
   "metadata": {
    "id": "BEas3yRPieDL"
   },
   "source": [
    "<a id='conclusions'></a>\n",
    "## Conclusions\n",
    "\n",
    "> **Question (1):** Are females more likely to show than males?\n",
    "- Males are more likely to show than females by 0.34% .\n",
    "- Females are definitely more likely to go to the hospital and take a better care about thier health than males.\n",
    "\n",
    "\n",
    "> **Question (2):** Is there an age range that most likely to show, or not to show?\n",
    "- The highest numbers of appointments are made by Patients in age range between (0 to 10) and (50 to 60).\n",
    "- The age range with the highest propaplity to show is (60 to 90) with average propaplity of 84.5% .\n",
    "- The age range with the lowest propaplity to show is (10 to 30) with average propaplity of 75% .\n",
    "\n",
    "### Limitations\n",
    "> The data collected are ffrom the 3 monthes 4,5,6 which in Brazil are the begining of winter so most likely most of the appointments scheduled will be caused by catching a cold and by the time of the appointment the patient could be cured and dont need any medical help."
   ]
  },
  {
   "cell_type": "code",
   "execution_count": null,
   "metadata": {},
   "outputs": [],
   "source": []
  }
 ],
 "metadata": {
  "colab": {
   "collapsed_sections": [
    "ULkSsVZ0ieC5",
    "29gcHrN0jX3Z",
    "YKzyoO04ieC-",
    "Ywns83WIieDA",
    "OYWNJlBdieDA",
    "swKi8SzKieDC",
    "5s0-GbbQieDD",
    "8tRGlFUbieDE",
    "lpcjIiw-ieDE",
    "xIQVMfFdieDE",
    "Avj28SpPJnFI",
    "pMUpaxcjieDF",
    "OWaEOPsJJe3f",
    "ATYg51KoieDF",
    "h_H_OkBcieDF",
    "zdTcG4zhieDG",
    "cCxfneVeieDH",
    "3I0eh7VKieDH",
    "OkxyRPDcieDH",
    "d-7DTrVDJJp2",
    "XqaKJiGxieDI",
    "6p9rHeZOJPb8",
    "vSXsDoO8ieDJ",
    "JSTx2qBsJW5b",
    "gHycAfKhtSNi",
    "epKG8f5tQ3Zc",
    "Mp_0jkztieDK",
    "yyz0Kp4I3nUn",
    "ix1Jrqec4Qzl",
    "eRVZHDWzDrC0",
    "toDzOL89DwYE",
    "BEas3yRPieDL"
   ],
   "name": "Investigate_a_Dataset.ipynb",
   "provenance": []
  },
  "kernelspec": {
   "display_name": "Python 3",
   "language": "python",
   "name": "python3"
  },
  "language_info": {
   "codemirror_mode": {
    "name": "ipython",
    "version": 3
   },
   "file_extension": ".py",
   "mimetype": "text/x-python",
   "name": "python",
   "nbconvert_exporter": "python",
   "pygments_lexer": "ipython3",
   "version": "3.6.3"
  }
 },
 "nbformat": 4,
 "nbformat_minor": 1
}

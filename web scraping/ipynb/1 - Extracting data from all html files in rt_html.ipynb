{
  "nbformat": 4,
  "nbformat_minor": 0,
  "metadata": {
    "colab": {
      "name": "1 - Extracting data from all html files in rt_html.ipynb",
      "provenance": []
    },
    "kernelspec": {
      "name": "python3",
      "display_name": "Python 3"
    },
    "language_info": {
      "name": "python"
    }
  },
  "cells": [
    {
      "cell_type": "code",
      "metadata": {
        "id": "Jw3gxZq12jGF"
      },
      "source": [
        "from bs4 import BeautifulSoup\n",
        "import os\n",
        "import pandas as pd"
      ],
      "execution_count": null,
      "outputs": []
    },
    {
      "cell_type": "markdown",
      "metadata": {
        "id": "GNeyy2rd5Ghz"
      },
      "source": [
        "## Test code"
      ]
    },
    {
      "cell_type": "code",
      "metadata": {
        "id": "I4NqmwCh2sGd"
      },
      "source": [
        "##test\n",
        "folder = 'rt_html'\n",
        "movie_html = '12_years_a_slave.html'\n",
        "\n",
        "#make a file path by joining the path of the folder to the path of the file\n",
        "path = os.path.join(folder, movie_html)\n",
        "\n",
        "#show all the files in the folder\n",
        "os.listdir(folder)\n",
        "\n",
        "with open(path) as file:\n",
        "    soup = BeautifulSoup(file, \"lxml\")\n",
        "    title = soup.find('title').contents[0][:-len(' - Rotten Tomatoes')]\n",
        "    print('Title: ',title)\n",
        "    audience_score = soup.find('div',class_='audience-score meter').find('span').contents[0][:-1]\n",
        "    print('Audience Score: ',audience_score)\n",
        "    num_audience_ratings = int(soup.find('div', class_=\"audience-info hidden-xs superPageFontColor\").find_all('div')[1].contents[2].strip().replace(\",\",\"\"))\n",
        "    print('num audience ratings: '.title(),num_audience_ratings)"
      ],
      "execution_count": null,
      "outputs": []
    },
    {
      "cell_type": "markdown",
      "metadata": {
        "id": "4H5ROYNu42mo"
      },
      "source": [
        "## Main code"
      ]
    },
    {
      "cell_type": "code",
      "metadata": {
        "id": "LUPR_1Ls2tjr"
      },
      "source": [
        "# List of dictionaries to build file by file and later convert to a DataFrame\n",
        "df_list = []\n",
        "folder = 'rt_html'\n",
        "for movie_html in os.listdir(folder):\n",
        "    with open(os.path.join(folder, movie_html)) as file:\n",
        "\n",
        "        #use 'lxml' phraser to run through the html file\n",
        "        soup = BeautifulSoup(file, \"lxml\")\n",
        "        \n",
        "        #find the title and remove the ' - Rotten Tomatoes' part\n",
        "        title = soup.find('title').contents[0][:-len(' - Rotten Tomatoes')]\n",
        "\n",
        "        #find the score and remove the %\n",
        "        audience_score = soup.find('div',class_='audience-score meter').find('span').contents[0][:-1]\n",
        "\n",
        "        #fiind the ratings and remove the ,\n",
        "        num_audience_ratings = int(soup.find('div', class_=\"audience-info hidden-xs superPageFontColor\").find_all('div')[1].contents[2].strip().replace(\",\",\"\"))\n",
        "\n",
        "        # Append to list of dictionaries\n",
        "        df_list.append({'title': title,\n",
        "                        'audience_score': int(audience_score),\n",
        "                        'number_of_audience_ratings': int(num_audience_ratings)})\n",
        "\n",
        "df = pd.DataFrame(df_list, columns = ['title', 'audience_score', 'number_of_audience_ratings'])"
      ],
      "execution_count": null,
      "outputs": []
    },
    {
      "cell_type": "code",
      "metadata": {
        "id": "qKV-NLG627C2"
      },
      "source": [
        "#sort\n",
        "df.sort_values('title', inplace = True)\n",
        "\n",
        "#rest the index to match the new soerting\n",
        "df.reset_index(inplace = True, drop = True)"
      ],
      "execution_count": null,
      "outputs": []
    }
  ]
}